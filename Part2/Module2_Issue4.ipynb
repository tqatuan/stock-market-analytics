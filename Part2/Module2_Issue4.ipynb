{
 "cells": [
  {
   "cell_type": "markdown",
   "id": "2641f66e",
   "metadata": {},
   "source": [
    "# Task 4: [Strategy] Simple RSI-Based Trading Strategy\n",
    "\n",
    "What is the total profit (in $thousands) you would have earned by investing $1000 every time a stock was oversold (RSI < 25)?\n",
    "\n",
    "Goal:\n",
    "\n",
    "Apply a simple rule-based trading strategy using the Relative Strength Index (RSI) technical indicator to identify oversold signals and calculate profits.\n",
    "\n",
    "Steps:\n",
    "\n",
    "## 1. Run the full notebook from Lecture 2 (33 stocks)\n",
    "\n",
    "- Ensure you can generate the merged DataFrame containing:\n",
    "        OHLCV data\n",
    "        Technical indicators\n",
    "        Macro indicators\n",
    "- Focus on getting RSI computed using Code Snippets 8 and 9.\n",
    "- This process is essential and will help during the capstone project.\n",
    "## 2. Alternative (if tech indicators fail to generate):\n",
    "Download precomputed data using this snippet:"
   ]
  },
  {
   "cell_type": "code",
   "execution_count": 2,
   "id": "7faec9b3",
   "metadata": {},
   "outputs": [
    {
     "name": "stderr",
     "output_type": "stream",
     "text": [
      "Downloading...\n",
      "From (original): https://drive.google.com/uc?id=1grCTCzMZKY5sJRtdbLVCXg8JXA8VPyg-\n",
      "From (redirected): https://drive.google.com/uc?id=1grCTCzMZKY5sJRtdbLVCXg8JXA8VPyg-&confirm=t&uuid=627243a4-2832-46f6-b4ce-24a790e36ed9\n",
      "To: /Users/tuantran/Documents/stock-market-analytics/artifacts/Module2/data.parquet\n",
      "100%|██████████| 130M/130M [00:03<00:00, 42.4MB/s] \n"
     ]
    }
   ],
   "source": [
    "import gdown\n",
    "import pandas as pd\n",
    "\n",
    "file_id = \"1grCTCzMZKY5sJRtdbLVCXg8JXA8VPyg-\"\n",
    "gdown.download(f\"https://drive.google.com/uc?id={file_id}\", \"data.parquet\", quiet=False)\n",
    "df = pd.read_parquet(\"data.parquet\", engine=\"fastparquet\")\n"
   ]
  },
  {
   "cell_type": "code",
   "execution_count": 3,
   "id": "5aaff4d4",
   "metadata": {},
   "outputs": [],
   "source": [
    "df.to_pickle('dataframe_final.pkl')"
   ]
  },
  {
   "cell_type": "code",
   "execution_count": 21,
   "id": "132220b5",
   "metadata": {},
   "outputs": [
    {
     "name": "stdout",
     "output_type": "stream",
     "text": [
      "Final stocks_df shape = (229932, 203)\n"
     ]
    }
   ],
   "source": [
    "print(f'Final stocks_df shape = {df.shape}')"
   ]
  },
  {
   "cell_type": "code",
   "execution_count": 22,
   "id": "0e1f97dd",
   "metadata": {},
   "outputs": [
    {
     "name": "stdout",
     "output_type": "stream",
     "text": [
      "       Open      High       Low   Close_x        Volume  Dividends  \\\n",
      "0  0.054277  0.062259  0.054277  0.059598  1.031789e+09        0.0   \n",
      "1  0.059598  0.062791  0.059598  0.061726  3.081600e+08        0.0   \n",
      "2  0.061726  0.063323  0.061726  0.062791  1.331712e+08        0.0   \n",
      "3  0.062791  0.063323  0.060662  0.061194  6.776640e+07        0.0   \n",
      "4  0.061194  0.061726  0.059598  0.060130  4.789440e+07        0.0   \n",
      "5  0.060130  0.060130  0.058001  0.058533  5.843520e+07        0.0   \n",
      "\n",
      "   Stock Splits Ticker  Year      Month  ...  growth_brent_oil_7d  \\\n",
      "0           0.0   MSFT  1986 1986-03-01  ...                  NaN   \n",
      "1           0.0   MSFT  1986 1986-03-01  ...                  NaN   \n",
      "2           0.0   MSFT  1986 1986-03-01  ...                  NaN   \n",
      "3           0.0   MSFT  1986 1986-03-01  ...                  NaN   \n",
      "4           0.0   MSFT  1986 1986-03-01  ...                  NaN   \n",
      "5           0.0   MSFT  1986 1986-03-01  ...                  NaN   \n",
      "\n",
      "  growth_brent_oil_30d  growth_brent_oil_90d  growth_brent_oil_365d  \\\n",
      "0                  NaN                   NaN                    NaN   \n",
      "1                  NaN                   NaN                    NaN   \n",
      "2                  NaN                   NaN                    NaN   \n",
      "3                  NaN                   NaN                    NaN   \n",
      "4                  NaN                   NaN                    NaN   \n",
      "5                  NaN                   NaN                    NaN   \n",
      "\n",
      "   growth_btc_usd_1d  growth_btc_usd_3d  growth_btc_usd_7d  \\\n",
      "0                NaN                NaN                NaN   \n",
      "1                NaN                NaN                NaN   \n",
      "2                NaN                NaN                NaN   \n",
      "3                NaN                NaN                NaN   \n",
      "4                NaN                NaN                NaN   \n",
      "5                NaN                NaN                NaN   \n",
      "\n",
      "   growth_btc_usd_30d  growth_btc_usd_90d  growth_btc_usd_365d  \n",
      "0                 NaN                 NaN                  NaN  \n",
      "1                 NaN                 NaN                  NaN  \n",
      "2                 NaN                 NaN                  NaN  \n",
      "3                 NaN                 NaN                  NaN  \n",
      "4                 NaN                 NaN                  NaN  \n",
      "5                 NaN                 NaN                  NaN  \n",
      "\n",
      "[6 rows x 203 columns]\n"
     ]
    }
   ],
   "source": [
    "print(df.head(6))"
   ]
  },
  {
   "cell_type": "code",
   "execution_count": 23,
   "id": "703414e1",
   "metadata": {},
   "outputs": [
    {
     "name": "stdout",
     "output_type": "stream",
     "text": [
      "                Open           High            Low        Close_x  \\\n",
      "count  229932.000000  229932.000000  229932.000000  229932.000000   \n",
      "mean      173.752609     175.632427     171.771753     173.699429   \n",
      "min         0.000000       0.032597       0.030566       0.031283   \n",
      "25%         9.211445       9.323409       9.091979       9.209488   \n",
      "50%        35.180027      35.647109      34.722365      35.209103   \n",
      "75%       142.764649     144.364608     141.074416     142.786453   \n",
      "max      4493.237606    4509.193819    4430.395122    4471.390137   \n",
      "std       422.196533     426.346835     417.778376     422.002171   \n",
      "\n",
      "             Volume      Dividends   Stock Splits           Year  \\\n",
      "count  2.299320e+05  229932.000000  229932.000000  229932.000000   \n",
      "mean   4.938914e+07       0.010303       0.001398    2009.337861   \n",
      "min    0.000000e+00       0.000000       0.000000    1972.000000   \n",
      "25%    1.095200e+06       0.000000       0.000000    2003.000000   \n",
      "50%    3.684500e+06       0.000000       0.000000    2011.000000   \n",
      "75%    1.975100e+07       0.000000       0.000000    2018.000000   \n",
      "max    9.230856e+09      66.000000      50.000000    2025.000000   \n",
      "std    1.625348e+08       0.321639       0.138103      10.568704   \n",
      "\n",
      "                               Month        Weekday  ... growth_brent_oil_7d  \\\n",
      "count                         229932  229932.000000  ...       138196.000000   \n",
      "mean   2009-10-18 02:50:51.197745408       2.013095  ...            1.001580   \n",
      "min              1972-06-01 00:00:00       0.000000  ...            0.601120   \n",
      "25%              2003-03-01 00:00:00       1.000000  ...            0.971214   \n",
      "50%              2011-02-01 00:00:00       2.000000  ...            1.004809   \n",
      "75%              2018-05-01 00:00:00       3.000000  ...            1.033903   \n",
      "max              2025-05-01 00:00:00       6.000000  ...            1.486743   \n",
      "std                              NaN       1.404272  ...            0.061498   \n",
      "\n",
      "       growth_brent_oil_30d  growth_brent_oil_90d  growth_brent_oil_365d  \\\n",
      "count         137559.000000         135893.000000          128118.000000   \n",
      "mean               1.007713              1.025437               1.076083   \n",
      "min                0.393766              0.300435               0.264179   \n",
      "25%                0.943270              0.901079               0.788279   \n",
      "50%                1.008484              1.018676               0.975347   \n",
      "75%                1.081650              1.148929               1.323112   \n",
      "max                2.060030              2.332644               4.062080   \n",
      "std                0.128562              0.229652               0.462420   \n",
      "\n",
      "       growth_btc_usd_1d  growth_btc_usd_3d  growth_btc_usd_7d  \\\n",
      "count       86691.000000       86627.000000       86563.000000   \n",
      "mean            1.002374           1.006668           1.014964   \n",
      "min             0.628305           0.627336           0.547518   \n",
      "25%             0.985556           0.975776           0.963631   \n",
      "50%             1.001470           1.004520           1.007013   \n",
      "75%             1.018924           1.037086           1.058838   \n",
      "max             1.252472           1.535506           1.749111   \n",
      "std             0.038767           0.063688           0.097428   \n",
      "\n",
      "       growth_btc_usd_30d  growth_btc_usd_90d  growth_btc_usd_365d  \n",
      "count        86041.000000        84745.000000         78690.000000  \n",
      "mean             1.068405            1.233688             2.594225  \n",
      "min              0.396832            0.378634             0.185252  \n",
      "25%              0.919440            0.880564             1.109234  \n",
      "50%              1.036243            1.098825             1.879982  \n",
      "75%              1.180168            1.458432             2.683080  \n",
      "max              2.926924            5.200780            24.178967  \n",
      "std              0.237492            0.550706             2.764706  \n",
      "\n",
      "[8 rows x 201 columns]\n"
     ]
    }
   ],
   "source": [
    "print(df.describe())"
   ]
  },
  {
   "cell_type": "code",
   "execution_count": 24,
   "id": "73a0271d",
   "metadata": {},
   "outputs": [
    {
     "name": "stdout",
     "output_type": "stream",
     "text": [
      "['Open', 'High', 'Low', 'Close_x', 'Volume', 'Dividends', 'Stock Splits', 'Ticker', 'Year', 'Month', 'Weekday', 'Date', 'growth_1d', 'growth_3d', 'growth_7d', 'growth_30d', 'growth_90d', 'growth_365d', 'growth_future_30d', 'SMA10', 'SMA20', 'growing_moving_average', 'high_minus_low_relative', 'volatility', 'is_positive_growth_30d_future', 'ticker_type', 'index_x', 'adx', 'adxr', 'apo', 'aroon_1', 'aroon_2', 'aroonosc', 'bop', 'cci', 'cmo', 'dx', 'macd', 'macdsignal', 'macdhist', 'macd_ext', 'macdsignal_ext', 'macdhist_ext', 'macd_fix', 'macdsignal_fix', 'macdhist_fix', 'mfi', 'minus_di', 'mom', 'plus_di', 'dm', 'ppo', 'roc', 'rocp', 'rocr', 'rocr100', 'rsi', 'slowk', 'slowd', 'fastk', 'fastd', 'fastk_rsi', 'fastd_rsi', 'trix', 'ultosc', 'willr', 'index_y', 'ad', 'adosc', 'obv', 'atr', 'natr', 'ht_dcperiod', 'ht_dcphase', 'ht_phasor_inphase', 'ht_phasor_quadrature', 'ht_sine_sine', 'ht_sine_leadsine', 'ht_trendmod', 'avgprice', 'medprice', 'typprice', 'wclprice', 'index', 'cdl2crows', 'cdl3blackrows', 'cdl3inside', 'cdl3linestrike', 'cdl3outside', 'cdl3starsinsouth', 'cdl3whitesoldiers', 'cdlabandonedbaby', 'cdladvancedblock', 'cdlbelthold', 'cdlbreakaway', 'cdlclosingmarubozu', 'cdlconcealbabyswall', 'cdlcounterattack', 'cdldarkcloudcover', 'cdldoji', 'cdldojistar', 'cdldragonflydoji', 'cdlengulfing', 'cdleveningdojistar', 'cdleveningstar', 'cdlgapsidesidewhite', 'cdlgravestonedoji', 'cdlhammer', 'cdlhangingman', 'cdlharami', 'cdlharamicross', 'cdlhighwave', 'cdlhikkake', 'cdlhikkakemod', 'cdlhomingpigeon', 'cdlidentical3crows', 'cdlinneck', 'cdlinvertedhammer', 'cdlkicking', 'cdlkickingbylength', 'cdlladderbottom', 'cdllongleggeddoji', 'cdllongline', 'cdlmarubozu', 'cdlmatchinglow', 'cdlmathold', 'cdlmorningdojistar', 'cdlmorningstar', 'cdlonneck', 'cdlpiercing', 'cdlrickshawman', 'cdlrisefall3methods', 'cdlseparatinglines', 'cdlshootingstar', 'cdlshortline', 'cdlspinningtop', 'cdlstalledpattern', 'cdlsticksandwich', 'cdltakuru', 'cdltasukigap', 'cdlthrusting', 'cdltristar', 'cdlunique3river', 'cdlupsidegap2crows', 'cdlxsidegap3methods', 'growth_dax_1d', 'growth_dax_3d', 'growth_dax_7d', 'growth_dax_30d', 'growth_dax_90d', 'growth_dax_365d', 'growth_snp500_1d', 'growth_snp500_3d', 'growth_snp500_7d', 'growth_snp500_30d', 'growth_snp500_90d', 'growth_snp500_365d', 'growth_dji_1d', 'growth_dji_3d', 'growth_dji_7d', 'growth_dji_30d', 'growth_dji_90d', 'growth_dji_365d', 'growth_epi_1d', 'growth_epi_3d', 'growth_epi_7d', 'growth_epi_30d', 'growth_epi_90d', 'growth_epi_365d', 'Quarter', 'gdppot_us_yoy', 'gdppot_us_qoq', 'cpi_core_yoy', 'cpi_core_mom', 'FEDFUNDS', 'DGS1', 'DGS5', 'DGS10', 'Close_y', 'growth_gold_1d', 'growth_gold_3d', 'growth_gold_7d', 'growth_gold_30d', 'growth_gold_90d', 'growth_gold_365d', 'growth_wti_oil_1d', 'growth_wti_oil_3d', 'growth_wti_oil_7d', 'growth_wti_oil_30d', 'growth_wti_oil_90d', 'growth_wti_oil_365d', 'growth_brent_oil_1d', 'growth_brent_oil_3d', 'growth_brent_oil_7d', 'growth_brent_oil_30d', 'growth_brent_oil_90d', 'growth_brent_oil_365d', 'growth_btc_usd_1d', 'growth_btc_usd_3d', 'growth_btc_usd_7d', 'growth_btc_usd_30d', 'growth_btc_usd_90d', 'growth_btc_usd_365d']\n"
     ]
    }
   ],
   "source": [
    "print(df.columns.tolist())\n"
   ]
  },
  {
   "cell_type": "code",
   "execution_count": 26,
   "id": "80d4cae8",
   "metadata": {},
   "outputs": [
    {
     "name": "stdout",
     "output_type": "stream",
     "text": [
      "count    229470.000000\n",
      "mean         52.972321\n",
      "std          12.085901\n",
      "min           0.000000\n",
      "25%          44.535042\n",
      "50%          53.066628\n",
      "75%          61.511647\n",
      "max         100.000000\n",
      "Name: rsi, dtype: float64\n"
     ]
    }
   ],
   "source": [
    "print(df['rsi'].describe())\n",
    "\n"
   ]
  },
  {
   "cell_type": "markdown",
   "id": "09eaa0f3",
   "metadata": {},
   "source": [
    "## 3. RSI Strategy Setup:\n",
    "\n",
    "- RSI is already available in the dataset as a field.\n",
    "- The threshold for oversold is defined as RSI < 25.\n",
    "## 4. Filter the dataset by RSI and date:\n",
    "\n"
   ]
  },
  {
   "cell_type": "markdown",
   "id": "82b28db1",
   "metadata": {},
   "source": [
    "- RSI is a momentum oscillator used in technical analysis to measure the speed and change of price movements.\n",
    "- Range: 0 to 100\n",
    "Interpretation:\n",
    "- RSI > 70 → Overbought (possible sell signal)\n",
    "- RSI < 30 → Oversold (possible buy signal)\n",
    "- RSI around 50 → Neutral"
   ]
  },
  {
   "cell_type": "code",
   "execution_count": 27,
   "id": "1f2b4fa9",
   "metadata": {},
   "outputs": [],
   "source": [
    "rsi_threshold = 25\n",
    "selected_df = df[\n",
    "    (df['rsi'] < rsi_threshold) &\n",
    "    (df['Date'] >= '2000-01-01') &\n",
    "    (df['Date'] <= '2025-06-01')\n",
    "]"
   ]
  },
  {
   "cell_type": "markdown",
   "id": "f3219b9e",
   "metadata": {},
   "source": [
    "## 5. Calculate Net Profit Over 25 Years:\n",
    "\n",
    "- Total number of trades: 1568\n",
    "\n",
    "- For each trade, you invest $1000\n",
    "\n",
    "- Use the 30-day forward return (growth_future_30d) to compute net earnings:\n",
    "\n",
    "KEY ASSUMPTION\n",
    "- For each signal, return is measured by growth_future_30d\n",
    "E.g., if growth_future_30d = 0.10, your $1,000 becomes $1,100\n",
    "- You compound nothing (i.e., each trade is independent with fresh $1,000)\n",
    "- You want the final value today of all those trades over ~25 years"
   ]
  },
  {
   "cell_type": "code",
   "execution_count": 28,
   "id": "ef5c2292",
   "metadata": {},
   "outputs": [],
   "source": [
    "net_income = 1000 * (selected_df['growth_future_30d'] - 1).sum()"
   ]
  },
  {
   "cell_type": "markdown",
   "id": "ea9ce19e",
   "metadata": {},
   "source": [
    "Final Answer:\n",
    "What is the net income in $K (i.e., in thousands of dollars) that could be earned using this RSI-based oversold strategy from 2000–2025"
   ]
  },
  {
   "cell_type": "code",
   "execution_count": 29,
   "id": "f0c8b107",
   "metadata": {},
   "outputs": [
    {
     "name": "stdout",
     "output_type": "stream",
     "text": [
      "24295.523125248386\n"
     ]
    }
   ],
   "source": [
    "print(net_income)"
   ]
  },
  {
   "cell_type": "code",
   "execution_count": 33,
   "id": "de7aa61b",
   "metadata": {},
   "outputs": [],
   "source": [
    "# df['date'] = pd.to_datetime(df['date'])  # skip if already datetime\n",
    "\n",
    "# 2. Filter data between Jan 1, 2000 and Dec 31, 2024\n",
    "df_filtered = df[(df['Year'] >= 2000) & (df['Year'] <= 2024)]"
   ]
  },
  {
   "cell_type": "code",
   "execution_count": 34,
   "id": "0bf7cd39",
   "metadata": {},
   "outputs": [
    {
     "name": "stdout",
     "output_type": "stream",
     "text": [
      "Total trades taken: 2001\n",
      "Total capital invested: $2,001,000.00\n",
      "Total return over 25 years: $4,036,022.73\n",
      "Net gain: $2,035,022.73\n"
     ]
    }
   ],
   "source": [
    "# 1. Filter trades where RSI is under 25\n",
    "rsi_signals = df[df['rsi'] < 25].copy()\n",
    "\n",
    "# 2. Drop rows where forward return is missing\n",
    "rsi_signals = rsi_signals.dropna(subset=['growth_future_30d'])\n",
    "\n",
    "# 3. Each trade invests $1,000\n",
    "initial_investment = 1000\n",
    "\n",
    "# 4. Calculate earnings per trade\n",
    "rsi_signals['trade_return'] = initial_investment * (1 + rsi_signals['growth_future_30d'])\n",
    "\n",
    "# 5. Total earnings: sum of all trades\n",
    "final_value = rsi_signals['trade_return'].sum()\n",
    "\n",
    "# 6. Number of trades taken\n",
    "num_trades = len(rsi_signals)\n",
    "\n",
    "print(f\"Total trades taken: {num_trades}\")\n",
    "print(f\"Total capital invested: ${num_trades * initial_investment:,.2f}\")\n",
    "print(f\"Total return over 25 years: ${final_value:,.2f}\")\n",
    "print(f\"Net gain: ${final_value - num_trades * initial_investment:,.2f}\")\n"
   ]
  }
 ],
 "metadata": {
  "kernelspec": {
   "display_name": ".venv",
   "language": "python",
   "name": "python3"
  },
  "language_info": {
   "codemirror_mode": {
    "name": "ipython",
    "version": 3
   },
   "file_extension": ".py",
   "mimetype": "text/x-python",
   "name": "python",
   "nbconvert_exporter": "python",
   "pygments_lexer": "ipython3",
   "version": "3.13.4"
  }
 },
 "nbformat": 4,
 "nbformat_minor": 5
}
