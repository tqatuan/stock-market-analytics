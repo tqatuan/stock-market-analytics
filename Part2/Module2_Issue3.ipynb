{
 "cells": [
  {
   "cell_type": "markdown",
   "id": "5c1928da",
   "metadata": {},
   "source": [
    "# Task 3: [IPO] ‘Fixed Months Holding Strategy’\n",
    "\n",
    "What is the optimal number of months (1 to 12) to hold a newly IPO'd stock in order to maximize average growth?\n",
    "(Assume you buy at the close of the first trading day and sell after a fixed number of trading days.)\n",
    "\n",
    "## Goal:\n",
    "\n",
    "Investigate whether holding an IPO stock for a fixed number of months after its first trading day produces better returns, using future growth columns.\n",
    "\n",
    "\n",
    "\n",
    "\n"
   ]
  },
  {
   "cell_type": "code",
   "execution_count": 3,
   "id": "e666c523",
   "metadata": {},
   "outputs": [],
   "source": [
    "import pandas as pd\n",
    "\n",
    "stocks_df = pd.read_pickle('dataframe.pkl')\n"
   ]
  },
  {
   "cell_type": "code",
   "execution_count": 4,
   "id": "377c9a81",
   "metadata": {},
   "outputs": [
    {
     "name": "stdout",
     "output_type": "stream",
     "text": [
      "<class 'pandas.core.frame.DataFrame'>\n",
      "RangeIndex: 26094 entries, 0 to 26093\n",
      "Data columns (total 30 columns):\n",
      " #   Column                         Non-Null Count  Dtype         \n",
      "---  ------                         --------------  -----         \n",
      " 0   Open                           26094 non-null  float64       \n",
      " 1   High                           26094 non-null  float64       \n",
      " 2   Low                            26094 non-null  float64       \n",
      " 3   Close                          26094 non-null  float64       \n",
      " 4   Volume                         26094 non-null  int64         \n",
      " 5   Dividends                      26094 non-null  float64       \n",
      " 6   Stock Splits                   26094 non-null  float64       \n",
      " 7   Ticker                         26094 non-null  object        \n",
      " 8   Sector                         26094 non-null  object        \n",
      " 9   Industry                       26094 non-null  object        \n",
      " 10  Year                           26094 non-null  int32         \n",
      " 11  Month                          26094 non-null  int32         \n",
      " 12  Weekday                        26094 non-null  int32         \n",
      " 13  Date                           26094 non-null  datetime64[ns]\n",
      " 14  growth_1d                      26017 non-null  float64       \n",
      " 15  growth_3d                      25863 non-null  float64       \n",
      " 16  growth_7d                      25555 non-null  float64       \n",
      " 17  growth_30d                     23784 non-null  float64       \n",
      " 18  growth_90d                     19164 non-null  float64       \n",
      " 19  growth_365d                    332 non-null    float64       \n",
      " 20  growth_252d                    6719 non-null   float64       \n",
      " 21  growth_future_30d              23784 non-null  float64       \n",
      " 22  SMA10                          25401 non-null  float64       \n",
      " 23  SMA20                          24631 non-null  float64       \n",
      " 24  growing_moving_average         26094 non-null  int64         \n",
      " 25  high_minus_low_relative        26094 non-null  float64       \n",
      " 26  volatility                     23784 non-null  float64       \n",
      " 27  is_positive_growth_30d_future  26094 non-null  int64         \n",
      " 28  excess_return                  26017 non-null  float64       \n",
      " 29  Sharpe                         6719 non-null   float64       \n",
      "dtypes: datetime64[ns](1), float64(20), int32(3), int64(3), object(3)\n",
      "memory usage: 5.7+ MB\n",
      "None\n"
     ]
    }
   ],
   "source": [
    "print(stocks_df.info())"
   ]
  },
  {
   "cell_type": "markdown",
   "id": "972e222c",
   "metadata": {},
   "source": [
    "## 1. Start from the existing DataFrame from Question 2 (75 tickers from IPOs in the first 5 months of 2024).\n",
    "\n",
    "Add 12 new columns:\n",
    "future_growth_1m, future_growth_2m, ..., future_growth_12m\n",
    "(Assume 1 month = 21 trading days, so growth is calculated over 21, 42, ..., 252 trading days)\n",
    "This logic is similar to historyPrices['growth_future_30d'] from Code Snippet 7, but extended to longer timeframes."
   ]
  },
  {
   "cell_type": "code",
   "execution_count": 5,
   "id": "bc118f7e",
   "metadata": {},
   "outputs": [],
   "source": [
    "# Assuming stocks_df already has a 'Close' column and is sorted by date per ticker\n",
    "\n",
    "for m in range(1, 13):\n",
    "    days = 21 * m\n",
    "    col_name = f'future_growth_{m}m'\n",
    "    stocks_df[col_name] = stocks_df['Close'].shift(-days) / stocks_df['Close']\n"
   ]
  },
  {
   "cell_type": "code",
   "execution_count": 6,
   "id": "aac711df",
   "metadata": {},
   "outputs": [
    {
     "name": "stdout",
     "output_type": "stream",
     "text": [
      "<class 'pandas.core.frame.DataFrame'>\n",
      "RangeIndex: 26094 entries, 0 to 26093\n",
      "Data columns (total 42 columns):\n",
      " #   Column                         Non-Null Count  Dtype         \n",
      "---  ------                         --------------  -----         \n",
      " 0   Open                           26094 non-null  float64       \n",
      " 1   High                           26094 non-null  float64       \n",
      " 2   Low                            26094 non-null  float64       \n",
      " 3   Close                          26094 non-null  float64       \n",
      " 4   Volume                         26094 non-null  int64         \n",
      " 5   Dividends                      26094 non-null  float64       \n",
      " 6   Stock Splits                   26094 non-null  float64       \n",
      " 7   Ticker                         26094 non-null  object        \n",
      " 8   Sector                         26094 non-null  object        \n",
      " 9   Industry                       26094 non-null  object        \n",
      " 10  Year                           26094 non-null  int32         \n",
      " 11  Month                          26094 non-null  int32         \n",
      " 12  Weekday                        26094 non-null  int32         \n",
      " 13  Date                           26094 non-null  datetime64[ns]\n",
      " 14  growth_1d                      26017 non-null  float64       \n",
      " 15  growth_3d                      25863 non-null  float64       \n",
      " 16  growth_7d                      25555 non-null  float64       \n",
      " 17  growth_30d                     23784 non-null  float64       \n",
      " 18  growth_90d                     19164 non-null  float64       \n",
      " 19  growth_365d                    332 non-null    float64       \n",
      " 20  growth_252d                    6719 non-null   float64       \n",
      " 21  growth_future_30d              23784 non-null  float64       \n",
      " 22  SMA10                          25401 non-null  float64       \n",
      " 23  SMA20                          24631 non-null  float64       \n",
      " 24  growing_moving_average         26094 non-null  int64         \n",
      " 25  high_minus_low_relative        26094 non-null  float64       \n",
      " 26  volatility                     23784 non-null  float64       \n",
      " 27  is_positive_growth_30d_future  26094 non-null  int64         \n",
      " 28  excess_return                  26017 non-null  float64       \n",
      " 29  Sharpe                         6719 non-null   float64       \n",
      " 30  future_growth_1m               26073 non-null  float64       \n",
      " 31  future_growth_2m               26052 non-null  float64       \n",
      " 32  future_growth_3m               26031 non-null  float64       \n",
      " 33  future_growth_4m               26010 non-null  float64       \n",
      " 34  future_growth_5m               25989 non-null  float64       \n",
      " 35  future_growth_6m               25968 non-null  float64       \n",
      " 36  future_growth_7m               25947 non-null  float64       \n",
      " 37  future_growth_8m               25926 non-null  float64       \n",
      " 38  future_growth_9m               25905 non-null  float64       \n",
      " 39  future_growth_10m              25884 non-null  float64       \n",
      " 40  future_growth_11m              25863 non-null  float64       \n",
      " 41  future_growth_12m              25842 non-null  float64       \n",
      "dtypes: datetime64[ns](1), float64(32), int32(3), int64(3), object(3)\n",
      "memory usage: 8.1+ MB\n",
      "None\n"
     ]
    }
   ],
   "source": [
    "print(stocks_df.info())"
   ]
  },
  {
   "cell_type": "markdown",
   "id": "8293b667",
   "metadata": {},
   "source": [
    "## 2. Determine the first trading day (min_date) for each ticker.\n",
    "This is the earliest date in the data for each stock."
   ]
  },
  {
   "cell_type": "code",
   "execution_count": 7,
   "id": "093fea6e",
   "metadata": {},
   "outputs": [
    {
     "name": "stdout",
     "output_type": "stream",
     "text": [
      "   Ticker       Date\n",
      "0     AHR 2024-02-07\n",
      "1    ALAB 2024-03-20\n",
      "2    ANRO 2024-02-02\n",
      "3      AS 2024-02-01\n",
      "4    AUNA 2024-03-22\n",
      "..    ...        ...\n",
      "72   YIBO 2024-01-25\n",
      "73   YYGH 2024-04-22\n",
      "74   ZBAO 2024-04-02\n",
      "75     ZK 2024-05-10\n",
      "76   ZONE 2024-04-26\n",
      "\n",
      "[77 rows x 2 columns]\n"
     ]
    }
   ],
   "source": [
    "# Ensure 'Date' is datetime type\n",
    "stocks_df['Date'] = pd.to_datetime(stocks_df['Date'])\n",
    "\n",
    "# Group by ticker and get earliest date\n",
    "earliest_dates = stocks_df.groupby('Ticker')['Date'].min().reset_index()\n",
    "\n",
    "print(earliest_dates)\n"
   ]
  },
  {
   "cell_type": "markdown",
   "id": "882086e0",
   "metadata": {},
   "source": [
    "## 3. Join the data:\n",
    "Perform an inner join between the min_date DataFrame and the future growth data on both ticker and date.\n",
    "➤ You should end up with 75 records (one per IPO) with all 12 future_growth_... fields populated."
   ]
  },
  {
   "cell_type": "code",
   "execution_count": 8,
   "id": "d4ca7aa2",
   "metadata": {},
   "outputs": [
    {
     "name": "stdout",
     "output_type": "stream",
     "text": [
      "Number of records: 77\n",
      "  Ticker       Date  future_growth_1m  future_growth_2m  future_growth_3m  \\\n",
      "0    RAY 2024-05-15          0.839243          0.777778          0.368794   \n",
      "1    HDL 2024-05-17          0.775236          0.750112          0.673845   \n",
      "2   JDZG 2024-05-15          0.242998          0.205160          0.122850   \n",
      "3   NAKA 2024-05-31          0.728477          0.552980          0.397351   \n",
      "4   RFAI 2024-07-05          1.002191          1.006972          1.007968   \n",
      "\n",
      "   future_growth_4m  future_growth_5m  future_growth_6m  future_growth_7m  \\\n",
      "0          0.463357          0.397163          0.406619          0.395508   \n",
      "1          0.643786          0.720502          0.719605          1.255271   \n",
      "2          0.160442          0.272727          0.199017          0.139066   \n",
      "3          0.350993          0.341060          0.387417          0.410596   \n",
      "4          1.014940          1.014940          1.017928          1.022908   \n",
      "\n",
      "   future_growth_8m  future_growth_9m  future_growth_10m  future_growth_11m  \\\n",
      "0          0.290780          0.297872           0.255319           0.602837   \n",
      "1          1.106326          1.030507           1.192014           0.907133   \n",
      "2          0.182555          0.170025           0.146437           0.121867   \n",
      "3          0.397351          0.586093           0.516556           0.897351   \n",
      "4          1.030877          1.035857           1.040837           1.046813   \n",
      "\n",
      "   future_growth_12m  \n",
      "0           0.432624  \n",
      "1           1.002602  \n",
      "2           0.142506  \n",
      "3           5.672185  \n",
      "4           1.049801  \n"
     ]
    }
   ],
   "source": [
    "# Step 1: Get earliest trading date per ticker (min_date)\n",
    "min_date = stocks_df.groupby('Ticker')['Date'].min().reset_index().rename(columns={'Date': 'min_date'})\n",
    "\n",
    "# Step 2: Merge min_date back with stocks_df on Ticker and Date == min_date\n",
    "merged = pd.merge(\n",
    "    stocks_df,\n",
    "    min_date,\n",
    "    left_on=['Ticker', 'Date'],\n",
    "    right_on=['Ticker', 'min_date'],\n",
    "    how='inner'\n",
    ")\n",
    "\n",
    "# Step 3: Drop the redundant 'min_date' column\n",
    "merged = merged.drop(columns=['min_date'])\n",
    "\n",
    "# Step 4: Select only the columns you want, including all future_growth_... columns\n",
    "future_growth_cols = [f'future_growth_{m}m' for m in range(1, 13)]\n",
    "\n",
    "result = merged[['Ticker', 'Date'] + future_growth_cols]\n",
    "\n",
    "print(f\"Number of records: {len(result)}\")  # should be 75\n",
    "print(result.head())\n"
   ]
  },
  {
   "cell_type": "markdown",
   "id": "68021d30",
   "metadata": {},
   "source": [
    "## 4. Compute descriptive statistics for the resulting DataFrame:\n",
    "Use .describe() or similar to analyze each of the 12 columns:\n",
    "\n",
    "- future_growth_1m\n",
    "- future_growth_2m\n",
    "...\n",
    "- future_growth_12m"
   ]
  },
  {
   "cell_type": "code",
   "execution_count": 9,
   "id": "28c8d5a6",
   "metadata": {},
   "outputs": [
    {
     "name": "stdout",
     "output_type": "stream",
     "text": [
      "       future_growth_1m  future_growth_2m  future_growth_3m  future_growth_4m  \\\n",
      "count      26073.000000      26052.000000      26031.000000      26010.000000   \n",
      "mean          10.534496         17.267833         23.665922         26.121714   \n",
      "std          343.997991        425.618372        484.630526        473.698450   \n",
      "min            0.001658          0.001637          0.001453          0.001253   \n",
      "25%            0.856459          0.760305          0.673591          0.598742   \n",
      "50%            0.998026          0.986687          0.982424          0.973898   \n",
      "75%            1.100290          1.164379          1.241441          1.309559   \n",
      "max        23733.331825      26933.331800      26666.665400      25466.665012   \n",
      "\n",
      "       future_growth_5m  future_growth_6m  future_growth_7m  future_growth_8m  \\\n",
      "count      25989.000000      25968.000000      25947.000000      25926.000000   \n",
      "mean          28.458947         29.659655         30.201446         30.072224   \n",
      "std          481.801807        472.610067        450.106469        421.393201   \n",
      "min            0.001018          0.000487          0.000356          0.000197   \n",
      "25%            0.536957          0.478434          0.428735          0.379993   \n",
      "50%            0.960000          0.953242          0.966464          0.965415   \n",
      "75%            1.412066          1.589572          1.801668          2.055192   \n",
      "max        24466.666013      23799.998425      20866.666438      18666.665462   \n",
      "\n",
      "       future_growth_9m  future_growth_10m  future_growth_11m  \\\n",
      "count      25905.000000       25884.000000       25863.000000   \n",
      "mean          27.259803          24.323880          22.017473   \n",
      "std          339.114917         275.049360         225.059346   \n",
      "min            0.000130           0.000114           0.000049   \n",
      "25%            0.348005           0.320043           0.298731   \n",
      "50%            0.960302           0.959226           0.962963   \n",
      "75%            2.458929           2.766650           3.019861   \n",
      "max        11733.332712       10533.333119        8999.999731   \n",
      "\n",
      "       future_growth_12m  \n",
      "count       25842.000000  \n",
      "mean           19.989708  \n",
      "std           188.122456  \n",
      "min             0.000050  \n",
      "25%             0.282323  \n",
      "50%             0.978846  \n",
      "75%             3.291811  \n",
      "max          7799.999343  \n"
     ]
    }
   ],
   "source": [
    "future_growth_cols = [f'future_growth_{m}m' for m in range(1, 13)]\n",
    "\n",
    "# Describe statistics for these columns\n",
    "stats = stocks_df[future_growth_cols].describe()\n",
    "\n",
    "print(stats)\n"
   ]
  },
  {
   "cell_type": "markdown",
   "id": "243a7cba",
   "metadata": {},
   "source": [
    "## 5. Determine the best holding period:\n",
    "\n",
    "Find the number of months (1 to 12) where the average (mean) future growth is maximal.\n",
    "This optimal month shows an uplift of >1% compared to all others.\n",
    "Still, the average return remains less than 1 (i.e., expected return is less than doubling your investment)."
   ]
  },
  {
   "cell_type": "code",
   "execution_count": 10,
   "id": "7c8b7c13",
   "metadata": {},
   "outputs": [
    {
     "name": "stdout",
     "output_type": "stream",
     "text": [
      "Month with max average growth: future_growth_7m\n",
      "Max average growth value: 30.2014\n",
      "Is uplift > 1% compared to all others? Yes\n",
      "Is max average growth less than 1? No\n"
     ]
    }
   ],
   "source": [
    "# List of future growth columns\n",
    "future_growth_cols = [f'future_growth_{m}m' for m in range(1, 13)]\n",
    "\n",
    "# Calculate the mean of each column\n",
    "mean_growth = stocks_df[future_growth_cols].mean()\n",
    "\n",
    "# Find the month with maximal mean growth\n",
    "max_month = mean_growth.idxmax()  # e.g., 'future_growth_5m'\n",
    "max_value = mean_growth[max_month]\n",
    "\n",
    "# Remove the max month and compare difference > 0.01\n",
    "others = mean_growth.drop(max_month)\n",
    "\n",
    "# Check if max_value is at least 1% higher than all others\n",
    "is_uplift = all((max_value - others) > 0.01)\n",
    "\n",
    "# Check if max average is less than 1\n",
    "less_than_double = max_value < 1\n",
    "\n",
    "print(f\"Month with max average growth: {max_month}\")\n",
    "print(f\"Max average growth value: {max_value:.4f}\")\n",
    "print(f\"Is uplift > 1% compared to all others? {'Yes' if is_uplift else 'No'}\")\n",
    "print(f\"Is max average growth less than 1? {'Yes' if less_than_double else 'No'}\")\n"
   ]
  }
 ],
 "metadata": {
  "kernelspec": {
   "display_name": ".venv",
   "language": "python",
   "name": "python3"
  },
  "language_info": {
   "codemirror_mode": {
    "name": "ipython",
    "version": 3
   },
   "file_extension": ".py",
   "mimetype": "text/x-python",
   "name": "python",
   "nbconvert_exporter": "python",
   "pygments_lexer": "ipython3",
   "version": "3.13.4"
  }
 },
 "nbformat": 4,
 "nbformat_minor": 5
}
