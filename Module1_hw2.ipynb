{
 "cells": [
  {
   "cell_type": "code",
   "execution_count": 66,
   "id": "c6335f9a",
   "metadata": {},
   "outputs": [],
   "source": [
    "import findspark\n",
    "# findspark.init()  # This sets SPARK_HOME automatically\n",
    "\n",
    "# from pyspark import SparkContext, SparkConf\n",
    "# from pyspark.sql import SparkSession\n",
    "\n",
    "# conf = SparkConf().setAppName(\"NotebookApp\").setMaster(\"local[*]\")\n",
    "# sc = SparkContext(conf=conf)\n",
    "# spark = SparkSession(sc)"
   ]
  },
  {
   "cell_type": "markdown",
   "id": "01894b26",
   "metadata": {},
   "source": [
    "# Question 2. [Macro] Indexes YTD (as of 1 May 2025)"
   ]
  },
  {
   "cell_type": "markdown",
   "id": "e20fe514",
   "metadata": {},
   "source": [
    "How many indexes (out of 10) have better year-to-date returns than the US (S&P 500) as of May 1, 2025?\n",
    "\n",
    "Using Yahoo Finance World Indices data, compare the year-to-date (YTD) performance (1 January-1 May 2025) of major stock market indexes for the following countries:\n",
    "\n",
    "- United States - S&P 500 (^GSPC)\n",
    "- China - Shanghai Composite (000001.SS)\n",
    "- Hong Kong - HANG SENG INDEX (^HSI)\n",
    "- Australia - S&P/ASX 200 (^AXJO)\n",
    "- India - Nifty 50 (^NSEI)\n",
    "- Canada - S&P/TSX Composite (^GSPTSE)\n",
    "- Germany - DAX (^GDAXI)\n",
    "- United Kingdom - FTSE 100 (^FTSE)\n",
    "- Japan - Nikkei 225 (^N225)\n",
    "- Mexico - IPC Mexico (^MXX)\n",
    "- Brazil - Ibovespa (^BVSP)"
   ]
  },
  {
   "cell_type": "markdown",
   "id": "97d99952",
   "metadata": {},
   "source": [
    "Hint: use start_date='2025-01-01' and end_date='2025-05-01' when downloading daily data in yfinance"
   ]
  },
  {
   "cell_type": "markdown",
   "id": "0dbd6f3c",
   "metadata": {},
   "source": [
    "Additional: How many of these indexes have better returns than the S&P 500 over 3, 5, and 10 year periods? Do you see the same trend? Note: For simplicity, ignore currency conversion effects.)"
   ]
  },
  {
   "cell_type": "code",
   "execution_count": 67,
   "id": "8a18ddda",
   "metadata": {},
   "outputs": [],
   "source": [
    "#Fin Data Sources\n",
    "import yfinance as yf\n",
    "import pandas_datareader as pdr\n",
    "import pandas as pd"
   ]
  },
  {
   "cell_type": "code",
   "execution_count": 68,
   "id": "1ae08637",
   "metadata": {},
   "outputs": [],
   "source": [
    "tickers = [\n",
    "    \"^GSPC\",       # US - S&P 500\n",
    "    \"000001.SS\",   # China - Shanghai Composite\n",
    "    \"^HSI\",        # Hong Kong - Hang Seng Index\n",
    "    \"^AXJO\",       # Australia - S&P/ASX 200\n",
    "    \"^NSEI\",       # India - Nifty 50\n",
    "    \"^GSPTSE\",     # Canada - S&P/TSX Composite\n",
    "    \"^GDAXI\",      # Germany - DAX\n",
    "    \"^FTSE\",       # UK - FTSE 100\n",
    "    \"^N225\",       # Japan - Nikkei 225\n",
    "    \"^MXX\",        # Mexico - IPC\n",
    "    \"^BVSP\"        # Brazil - Bovespa\n",
    "]\n"
   ]
  },
  {
   "cell_type": "code",
   "execution_count": 69,
   "id": "f2c1c500",
   "metadata": {},
   "outputs": [],
   "source": [
    "import datetime"
   ]
  },
  {
   "cell_type": "code",
   "execution_count": 70,
   "id": "e7c9f7cd",
   "metadata": {},
   "outputs": [
    {
     "data": {
      "text/plain": [
       "datetime.datetime(2025, 5, 25, 1, 37, 11, 343735)"
      ]
     },
     "execution_count": 70,
     "metadata": {},
     "output_type": "execute_result"
    }
   ],
   "source": [
    "datetime.datetime.now()"
   ]
  },
  {
   "cell_type": "code",
   "execution_count": 71,
   "id": "417dd800",
   "metadata": {},
   "outputs": [
    {
     "name": "stdout",
     "output_type": "stream",
     "text": [
      "Start Period: 2025-01-01, End Period: 2025-05-01\n"
     ]
    }
   ],
   "source": [
    "# Define start and end dates\n",
    "end_period = datetime.date(2025, 5, 1)\n",
    "today = datetime.date.today()\n",
    "start_period = datetime.date(today.year, 1, 1)\n",
    "print(f\"Start Period: {start_period}, End Period: {end_period}\")\n",
    "def get_ytd_return(ticker):\n",
    "    data = yf.download(ticker, start=start_period, end=end_period)\n",
    "    if data.empty or 'Close' not in data.columns:\n",
    "        return None\n",
    "    start_price = data['Close'].iloc[0]\n",
    "    end_price = data['Close'].iloc[-1]\n",
    "    result = (end_price - start_price) / start_price * 100\n",
    "\n",
    "    # Ensure scalar\n",
    "    if isinstance(result, pd.Series):\n",
    "        result = result.iloc[0]\n",
    "    return float(result)"
   ]
  },
  {
   "cell_type": "code",
   "execution_count": 72,
   "id": "9bd12583",
   "metadata": {},
   "outputs": [
    {
     "name": "stderr",
     "output_type": "stream",
     "text": [
      "[*********************100%***********************]  1 of 1 completed\n",
      "[*********************100%***********************]  1 of 1 completed\n",
      "[*********************100%***********************]  1 of 1 completed\n",
      "[*********************100%***********************]  1 of 1 completed"
     ]
    },
    {
     "name": "stderr",
     "output_type": "stream",
     "text": [
      "\n",
      "[*********************100%***********************]  1 of 1 completed\n",
      "[*********************100%***********************]  1 of 1 completed\n",
      "[*********************100%***********************]  1 of 1 completed\n",
      "[*********************100%***********************]  1 of 1 completed\n",
      "[*********************100%***********************]  1 of 1 completed\n",
      "[*********************100%***********************]  1 of 1 completed\n",
      "[*********************100%***********************]  1 of 1 completed"
     ]
    },
    {
     "name": "stdout",
     "output_type": "stream",
     "text": [
      "       Ticker  YTD Return\n",
      "0        ^MXX       13.05\n",
      "1        ^HSI       12.72\n",
      "2       ^BVSP       12.44\n",
      "3      ^GDAXI       12.35\n",
      "4       ^FTSE        2.84\n",
      "5       ^NSEI        2.49\n",
      "6   000001.SS        0.50\n",
      "7     ^GSPTSE       -0.23\n",
      "8       ^AXJO       -0.91\n",
      "9       ^GSPC       -5.10\n",
      "10      ^N225       -8.30\n"
     ]
    },
    {
     "name": "stderr",
     "output_type": "stream",
     "text": [
      "\n"
     ]
    }
   ],
   "source": [
    "my_dict = dict()\n",
    "for ticker in tickers:\n",
    "    ytd_return = get_ytd_return(ticker)\n",
    "    if ytd_return is not None:\n",
    "        my_dict[ticker] = round(ytd_return, 2)\n",
    "\n",
    "df = pd.DataFrame(list(my_dict.items()), columns=['Ticker', 'YTD Return'])\n",
    "print(df.sort_values(by='YTD Return', ascending=False).reset_index(drop=True))"
   ]
  },
  {
   "cell_type": "markdown",
   "id": "6b85ab16",
   "metadata": {},
   "source": [
    "### There are 9 index that perform better than S&P 500 YTD (2025)"
   ]
  }
 ],
 "metadata": {
  "kernelspec": {
   "display_name": "Python 3",
   "language": "python",
   "name": "python3"
  },
  "language_info": {
   "codemirror_mode": {
    "name": "ipython",
    "version": 3
   },
   "file_extension": ".py",
   "mimetype": "text/x-python",
   "name": "python",
   "nbconvert_exporter": "python",
   "pygments_lexer": "ipython3",
   "version": "3.12.1"
  }
 },
 "nbformat": 4,
 "nbformat_minor": 5
}
