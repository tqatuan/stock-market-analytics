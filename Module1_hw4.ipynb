{
 "cells": [
  {
   "cell_type": "markdown",
   "id": "c9f52f0c",
   "metadata": {},
   "source": [
    "# [Stocks] Earnings Surprise Analysis for Amazon (AMZN)"
   ]
  },
  {
   "cell_type": "markdown",
   "id": "6ca16849",
   "metadata": {},
   "source": [
    "## Calculate the median 2-day percentage change in stock prices following positive earnings surprises days."
   ]
  },
  {
   "cell_type": "markdown",
   "id": "467ba03c",
   "metadata": {},
   "source": [
    "Steps:\n",
    "\n",
    "1. Load earnings data from CSV (ha1_Amazon.csv) containing earnings dates, EPS estimates, and actual EPS\n",
    "2. Download complete historical price data using yfinance\n",
    "3. Calculate 2-day percentage changes for all historical dates: for each sequence of 3 consecutive trading days (Day 1, Day 2, Day 3), compute the return as Close_Day3 / Close_Day1 - 1. (Assume Day 2 may correspond to the earnings announcement.)\n",
    "4. Identify positive earnings surprises (where \"actual EPS > estimated EPS\" OR \"Surprise (%)>0\")\n",
    "5. Calculate 2-day percentage changes following positive earnings surprises\n",
    "6. Compare the median 2-day percentage change for positive surprises vs. all historical dates"
   ]
  },
  {
   "cell_type": "markdown",
   "id": "b1bbe6cb",
   "metadata": {},
   "source": [
    "Context: Earnings announcements, especially when they exceed analyst expectations, can significantly impact stock prices in the short term."
   ]
  },
  {
   "cell_type": "markdown",
   "id": "d492f045",
   "metadata": {},
   "source": [
    "Reference: Yahoo Finance earnings calendar - https://finance.yahoo.com/calendar/earnings?symbol=AMZN"
   ]
  },
  {
   "cell_type": "markdown",
   "id": "1ed961b2",
   "metadata": {},
   "source": [
    "Additional: Is there a correlation between the magnitude of the earnings surprise and the stock price reaction? Does the market react differently to earnings surprises during bull vs. bear markets?)"
   ]
  },
  {
   "cell_type": "code",
   "execution_count": 42,
   "id": "32a88a8d",
   "metadata": {},
   "outputs": [],
   "source": [
    "import yfinance as yf\n",
    "import pandas_datareader as pdr\n",
    "import pandas as pd\n",
    "import time\n",
    "import datetime\n",
    "from datetime import date\n",
    "from pyspark.sql import SparkSession\n",
    "from pyspark.sql import functions as F\n",
    "from pyspark.sql.window import Window"
   ]
  },
  {
   "cell_type": "code",
   "execution_count": 43,
   "id": "5b9ed583",
   "metadata": {},
   "outputs": [],
   "source": [
    "from pyspark.sql import SparkSession\n",
    "\n",
    "spark = SparkSession.builder \\\n",
    ".master(\"local[1]\") \\\n",
    ".appName(\"SparkByExamples.com\") \\\n",
    ".getOrCreate()"
   ]
  },
  {
   "cell_type": "code",
   "execution_count": 54,
   "id": "76195bdb",
   "metadata": {},
   "outputs": [],
   "source": [
    "spark.sparkContext.setLogLevel(\"ERROR\")"
   ]
  },
  {
   "cell_type": "markdown",
   "id": "a2aba26e",
   "metadata": {},
   "source": [
    "## 1. Getting AMZN expected and actual EPS"
   ]
  },
  {
   "cell_type": "markdown",
   "id": "891436e5",
   "metadata": {},
   "source": [
    "Welcome to Alpha Vantage! Your API key is: LVFCF3SBA9N86Z9P. Please record this API key at a safe place for future data access."
   ]
  },
  {
   "cell_type": "code",
   "execution_count": null,
   "id": "d802cae0",
   "metadata": {},
   "outputs": [],
   "source": [
    "pip install alpha-vantage"
   ]
  },
  {
   "cell_type": "code",
   "execution_count": 40,
   "id": "15ee14c5",
   "metadata": {},
   "outputs": [],
   "source": [
    "import requests\n",
    "import pandas as pd\n",
    "\n",
    "api_key = 'LVFCF3SBA9N86Z9P'\n",
    "symbol = \"AMZN\"\n",
    "url = f\"https://www.alphavantage.co/query?function=EARNINGS&symbol={symbol}&apikey={api_key}\"\n",
    "\n",
    "response = requests.get(url)\n",
    "data = response.json()\n",
    "\n",
    "# Extract quarterly earnings\n",
    "quarterly = data.get(\"quarterlyEarnings\", [])\n",
    "\n",
    "df = pd.DataFrame(quarterly)\n",
    "\n",
    "# Convert pandas DataFrame to Spark DataFrame\n",
    "amzn_eps_spark = spark.createDataFrame(df)\n",
    "\n",
    "# Select only the 3 columns in Spark DataFrame\n",
    "amzn_eps_selected = amzn_eps_spark.select(\"reportedDate\", \"reportedEPS\", \"estimatedEPS\") \\\n",
    "    .withColumn(\"surprise\", F.round((F.col(\"reportedEPS\") / F.col(\"estimatedEPS\")) - 1, 5))"
   ]
  },
  {
   "cell_type": "code",
   "execution_count": 55,
   "id": "cd9ff1c1",
   "metadata": {},
   "outputs": [
    {
     "name": "stdout",
     "output_type": "stream",
     "text": [
      "+------------+-----------+------------+--------+\n",
      "|reportedDate|reportedEPS|estimatedEPS|surprise|\n",
      "+------------+-----------+------------+--------+\n",
      "|  2025-05-01|       1.59|        1.36| 0.16912|\n",
      "|  2025-02-06|       1.86|      1.4837| 0.25362|\n",
      "|  2024-10-31|       1.43|        1.14| 0.25439|\n",
      "|  2024-08-01|       1.26|        1.03|  0.2233|\n",
      "|  2024-04-30|       0.98|        0.82| 0.19512|\n",
      "|  2024-02-01|          1|         0.8|    0.25|\n",
      "|  2023-10-26|       0.94|        0.58| 0.62069|\n",
      "|  2023-08-03|       0.65|        0.35| 0.85714|\n",
      "|  2023-04-27|       0.31|        0.21| 0.47619|\n",
      "|  2023-02-02|       0.25|        0.18| 0.38889|\n",
      "|  2022-10-27|       0.17|        0.22|-0.22727|\n",
      "|  2022-07-28|       0.18|        0.14| 0.28571|\n",
      "|  2022-04-28|       0.37|        0.42|-0.11905|\n",
      "|  2022-02-03|       0.29|        0.18| 0.61111|\n",
      "|  2021-10-28|       0.31|        0.45|-0.31111|\n",
      "|  2021-07-29|       0.76|        0.62| 0.22581|\n",
      "|  2021-04-29|       0.79|        0.48| 0.64583|\n",
      "|  2021-02-02|        0.7|        0.36| 0.94444|\n",
      "|  2020-10-29|       0.62|        0.37| 0.67568|\n",
      "|  2020-07-30|       0.52|        0.07| 6.42857|\n",
      "+------------+-----------+------------+--------+\n",
      "only showing top 20 rows\n",
      "\n"
     ]
    }
   ],
   "source": [
    "amzn_eps_selected.show()"
   ]
  },
  {
   "cell_type": "markdown",
   "id": "4b1da70f",
   "metadata": {},
   "source": [
    "## 2. Download historical price using yfinance"
   ]
  },
  {
   "cell_type": "code",
   "execution_count": 56,
   "id": "89fa8f06",
   "metadata": {},
   "outputs": [
    {
     "name": "stderr",
     "output_type": "stream",
     "text": [
      "[*********************100%***********************]  1 of 1 completed\n"
     ]
    }
   ],
   "source": [
    "amzn = yf.download(\"AMZN\", start=\"1997-05-15\")[['Close']].reset_index()\n",
    "amzn.columns = ['Date', 'Close']\n",
    "amzn = spark.createDataFrame(amzn)\n"
   ]
  },
  {
   "cell_type": "markdown",
   "id": "30acbe73",
   "metadata": {},
   "source": [
    "## 3. Calculate 2-day percentage changes for all historical dates: for each sequence of 3 consecutive trading days (Day 1, Day 2, Day 3), compute the return as Close_Day3 / Close_Day1 - 1. (Assume Day 2 may correspond to the earnings announcement.)"
   ]
  },
  {
   "cell_type": "code",
   "execution_count": 65,
   "id": "c74730b0",
   "metadata": {},
   "outputs": [
    {
     "name": "stdout",
     "output_type": "stream",
     "text": [
      "Row(close_window=[0.09791699796915054, 0.0864579975605011, 0.0854170024394989])\n",
      "+-------------------+---------------------+\n",
      "|Date               |two_day_return       |\n",
      "+-------------------+---------------------+\n",
      "|1997-05-15 00:00:00|-0.12765909687702903 |\n",
      "|1997-05-16 00:00:00|-0.054211252550370626|\n",
      "|1997-05-19 00:00:00|-0.16463936075229257 |\n",
      "|1997-05-20 00:00:00|-0.14649446138073408 |\n",
      "|1997-05-21 00:00:00|0.05109736146247479  |\n",
      "|1997-05-22 00:00:00|0.13432769059765626  |\n",
      "|1997-05-23 00:00:00|0.020839968489012373 |\n",
      "|1997-05-27 00:00:00|-0.0493514022482463  |\n",
      "|1997-05-28 00:00:00|-0.020414530320416957|\n",
      "|1997-05-29 00:00:00|0.0034679948750775402|\n",
      "|1997-05-30 00:00:00|-0.013893345439698446|\n",
      "|1997-06-02 00:00:00|-0.062075478157272435|\n",
      "|1997-06-03 00:00:00|0.04225367010948     |\n",
      "|1997-06-04 00:00:00|0.16913027855977103  |\n",
      "|1997-06-05 00:00:00|0.09459936080990494  |\n",
      "|1997-06-06 00:00:00|-0.044026917564262136|\n",
      "|1997-06-09 00:00:00|-0.08642373108998525 |\n",
      "|1997-06-10 00:00:00|0.013149450643562766 |\n",
      "|1997-06-11 00:00:00|0.02703581755293527  |\n",
      "|1997-06-12 00:00:00|-0.019474450216881323|\n",
      "+-------------------+---------------------+\n",
      "only showing top 20 rows\n",
      "\n"
     ]
    }
   ],
   "source": [
    "w = Window.orderBy(\"Date\").rowsBetween(0, 2)\n",
    "\n",
    "# Collect Close prices over the 3-day window into an array\n",
    "amzn_with_window = amzn.withColumn(\"close_window\", F.collect_list(\"Close\").over(w))\n",
    "print(amzn_with_window.select(\"close_window\").collect()[0])\n",
    "# Filter only rows where the window has exactly 3 closing prices\n",
    "amzn_filtered = amzn_with_window.filter(F.size(\"close_window\") == 3)\n",
    "\n",
    "# Calculate 2-day return: Close_Day3 / Close_Day1 - 1\n",
    "amzn_result = amzn_filtered.withColumn(\n",
    "    \"two_day_return\",\n",
    "    (F.col(\"close_window\")[2] / F.col(\"close_window\")[0]) - 1\n",
    ").select(\"Date\", \"two_day_return\")\n",
    "\n",
    "amzn_result.show(truncate=False)"
   ]
  },
  {
   "cell_type": "markdown",
   "id": "9a4cf358",
   "metadata": {},
   "source": [
    "## 4. Identify positive earnings surprises (where \"actual EPS > estimated EPS\" OR \"Surprise (%)>0\")"
   ]
  },
  {
   "cell_type": "code",
   "execution_count": 66,
   "id": "b8b3f337",
   "metadata": {},
   "outputs": [
    {
     "name": "stdout",
     "output_type": "stream",
     "text": [
      "+------------+-----------+------------+--------+\n",
      "|reportedDate|reportedEPS|estimatedEPS|surprise|\n",
      "+------------+-----------+------------+--------+\n",
      "|  2025-05-01|       1.59|        1.36| 0.16912|\n",
      "|  2025-02-06|       1.86|      1.4837| 0.25362|\n",
      "|  2024-10-31|       1.43|        1.14| 0.25439|\n",
      "|  2024-08-01|       1.26|        1.03|  0.2233|\n",
      "|  2024-04-30|       0.98|        0.82| 0.19512|\n",
      "|  2024-02-01|          1|         0.8|    0.25|\n",
      "|  2023-10-26|       0.94|        0.58| 0.62069|\n",
      "|  2023-08-03|       0.65|        0.35| 0.85714|\n",
      "|  2023-04-27|       0.31|        0.21| 0.47619|\n",
      "|  2023-02-02|       0.25|        0.18| 0.38889|\n",
      "|  2022-07-28|       0.18|        0.14| 0.28571|\n",
      "|  2022-02-03|       0.29|        0.18| 0.61111|\n",
      "|  2021-07-29|       0.76|        0.62| 0.22581|\n",
      "|  2021-04-29|       0.79|        0.48| 0.64583|\n",
      "|  2021-02-02|        0.7|        0.36| 0.94444|\n",
      "|  2020-10-29|       0.62|        0.37| 0.67568|\n",
      "|  2020-07-30|       0.52|        0.07| 6.42857|\n",
      "|  2020-01-30|       0.32|         0.2|     0.6|\n",
      "|  2019-04-25|       0.35|        0.24| 0.45833|\n",
      "|  2019-01-31|        0.3|        0.28| 0.07143|\n",
      "+------------+-----------+------------+--------+\n",
      "only showing top 20 rows\n",
      "\n"
     ]
    }
   ],
   "source": [
    "positive_surprises = amzn_eps_selected.filter(\n",
    "     (F.col(\"surprise\") > 0)\n",
    ").select(\"reportedDate\", \"reportedEPS\", \"estimatedEPS\", \"surprise\")\n",
    "positive_surprises.show()"
   ]
  },
  {
   "cell_type": "markdown",
   "id": "c4ceb2c9",
   "metadata": {},
   "source": [
    "## 5. Calculate 2-day percentage changes following positive earnings surprises"
   ]
  },
  {
   "cell_type": "code",
   "execution_count": 74,
   "id": "48ce9d22",
   "metadata": {},
   "outputs": [
    {
     "name": "stdout",
     "output_type": "stream",
     "text": [
      "+------------+-----------+------------+--------+------------------+\n",
      "|reportedDate|reportedEPS|estimatedEPS|surprise|        Close_Day1|\n",
      "+------------+-----------+------------+--------+------------------+\n",
      "|  2019-04-25|       0.35|        0.24| 0.45833| 95.11250305175781|\n",
      "|  2006-10-24|       0.05|        0.03| 0.66667|  1.68149995803833|\n",
      "|  2020-01-30|       0.32|         0.2|     0.6| 93.53399658203125|\n",
      "|  2002-10-24|    -0.0924|       -0.04|    1.31|0.9929999709129333|\n",
      "|  2016-04-28|       0.05|        0.03| 0.66667|30.100000381469727|\n",
      "|  2014-10-23|      -0.05|       -0.04|    0.25|15.659000396728516|\n",
      "|  2024-02-01|          1|         0.8|    0.25|159.27999877929688|\n",
      "|  2024-08-01|       1.26|        1.03|  0.2233|184.07000732421875|\n",
      "|  2023-02-02|       0.25|        0.18| 0.38889|112.91000366210938|\n",
      "|  2022-02-03|       0.29|        0.18| 0.61111| 138.8455047607422|\n",
      "+------------+-----------+------------+--------+------------------+\n",
      "only showing top 10 rows\n",
      "\n",
      "+------------+-----------+------------+--------+------------------+-------------------+------------------+------------+\n",
      "|reportedDate|reportedEPS|estimatedEPS|surprise|        Close_Day1|     tradeDate_Day1|        tradeClose|row_num_Day1|\n",
      "+------------+-----------+------------+--------+------------------+-------------------+------------------+------------+\n",
      "|  2019-04-25|       0.35|        0.24| 0.45833| 95.11250305175781|2019-04-25 00:00:00| 95.11250305175781|        5522|\n",
      "|  2006-10-24|       0.05|        0.03| 0.66667|  1.68149995803833|2006-10-24 00:00:00|  1.68149995803833|        2377|\n",
      "|  2020-01-30|       0.32|         0.2|     0.6| 93.53399658203125|2020-01-30 00:00:00| 93.53399658203125|        5715|\n",
      "|  2002-10-24|    -0.0924|       -0.04|    1.31|0.9929999709129333|2002-10-24 00:00:00|0.9929999709129333|        1370|\n",
      "|  2016-04-28|       0.05|        0.03| 0.66667|30.100000381469727|2016-04-28 00:00:00|30.100000381469727|        4770|\n",
      "|  2014-10-23|      -0.05|       -0.04|    0.25|15.659000396728516|2014-10-23 00:00:00|15.659000396728516|        4390|\n",
      "|  2024-02-01|          1|         0.8|    0.25|159.27999877929688|2024-02-01 00:00:00|159.27999877929688|        6723|\n",
      "|  2024-08-01|       1.26|        1.03|  0.2233|184.07000732421875|2024-08-01 00:00:00|184.07000732421875|        6848|\n",
      "|  2023-02-02|       0.25|        0.18| 0.38889|112.91000366210938|2023-02-02 00:00:00|112.91000366210938|        6473|\n",
      "|  2022-02-03|       0.29|        0.18| 0.61111| 138.8455047607422|2022-02-03 00:00:00| 138.8455047607422|        6223|\n",
      "+------------+-----------+------------+--------+------------------+-------------------+------------------+------------+\n",
      "only showing top 10 rows\n",
      "\n",
      "+------------+-----------+------------+--------+------------------+-------------------+------------------+------------+-------------------+------------------+-------+\n",
      "|reportedDate|reportedEPS|estimatedEPS|surprise|        Close_Day1|     tradeDate_Day1|        tradeClose|row_num_Day1|     tradeDate_Day3|        Close_Day3|row_num|\n",
      "+------------+-----------+------------+--------+------------------+-------------------+------------------+------------+-------------------+------------------+-------+\n",
      "|  2019-04-25|       0.35|        0.24| 0.45833| 95.11250305175781|2019-04-25 00:00:00| 95.11250305175781|        5522|2019-04-29 00:00:00| 96.92150115966797|   5524|\n",
      "|  2006-10-24|       0.05|        0.03| 0.66667|  1.68149995803833|2006-10-24 00:00:00|  1.68149995803833|        2377|2006-10-26 00:00:00|1.9149999618530273|   2379|\n",
      "|  2020-01-30|       0.32|         0.2|     0.6| 93.53399658203125|2020-01-30 00:00:00| 93.53399658203125|        5715|2020-02-03 00:00:00|100.20999908447266|   5717|\n",
      "|  2002-10-24|    -0.0924|       -0.04|    1.31|0.9929999709129333|2002-10-24 00:00:00|0.9929999709129333|        1370|2002-10-28 00:00:00|0.9294999837875366|   1372|\n",
      "|  2016-04-28|       0.05|        0.03| 0.66667|30.100000381469727|2016-04-28 00:00:00|30.100000381469727|        4770|2016-05-02 00:00:00|34.192501068115234|   4772|\n",
      "|  2014-10-23|      -0.05|       -0.04|    0.25|15.659000396728516|2014-10-23 00:00:00|15.659000396728516|        4390|2014-10-27 00:00:00|14.498499870300293|   4392|\n",
      "|  2024-02-01|          1|         0.8|    0.25|159.27999877929688|2024-02-01 00:00:00|159.27999877929688|        6723|2024-02-05 00:00:00|170.30999755859375|   6725|\n",
      "|  2024-08-01|       1.26|        1.03|  0.2233|184.07000732421875|2024-08-01 00:00:00|184.07000732421875|        6848|2024-08-05 00:00:00|161.02000427246094|   6850|\n",
      "|  2023-02-02|       0.25|        0.18| 0.38889|112.91000366210938|2023-02-02 00:00:00|112.91000366210938|        6473|2023-02-06 00:00:00|102.18000030517578|   6475|\n",
      "|  2022-02-03|       0.29|        0.18| 0.61111| 138.8455047607422|2022-02-03 00:00:00| 138.8455047607422|        6223|2022-02-07 00:00:00| 157.9355010986328|   6225|\n",
      "+------------+-----------+------------+--------+------------------+-------------------+------------------+------------+-------------------+------------------+-------+\n",
      "only showing top 10 rows\n",
      "\n",
      "+------------+-----------+------------+--------+--------------------+\n",
      "|reportedDate|reportedEPS|estimatedEPS|surprise|      two_day_return|\n",
      "+------------+-----------+------------+--------+--------------------+\n",
      "|  2019-04-25|       0.35|        0.24| 0.45833| 0.01901956157042517|\n",
      "|  2006-10-24|       0.05|        0.03| 0.66667|  0.1388641151600758|\n",
      "|  2020-01-30|       0.32|         0.2|     0.6| 0.07137514429404734|\n",
      "|  2002-10-24|    -0.0924|       -0.04|    1.31|-0.06394762234183837|\n",
      "|  2016-04-28|       0.05|        0.03| 0.66667| 0.13596347623852356|\n",
      "|  2014-10-23|      -0.05|       -0.04|    0.25|-0.07411076678117168|\n",
      "|  2024-02-01|          1|         0.8|    0.25|  0.0692491139115361|\n",
      "|  2024-08-01|       1.26|        1.03|  0.2233|-0.12522411112396925|\n",
      "|  2023-02-02|       0.25|        0.18| 0.38889|-0.09503146761950199|\n",
      "|  2022-02-03|       0.29|        0.18| 0.61111|  0.1374909210837354|\n",
      "+------------+-----------+------------+--------+--------------------+\n",
      "only showing top 10 rows\n",
      "\n"
     ]
    }
   ],
   "source": [
    "# Rename columns for clarity before join\n",
    "price_df = amzn.select(\n",
    "    F.col(\"Date\").alias(\"tradeDate\"),\n",
    "    F.col(\"Close\").alias(\"tradeClose\")\n",
    ")\n",
    "\n",
    "# Join positive surprises with price_df on announcement date = tradeDate (Day 1)\n",
    "pos_eps_with_close = positive_surprises.join(\n",
    "    price_df,\n",
    "    positive_surprises.reportedDate == price_df.tradeDate,\n",
    "    how='inner'\n",
    ").select(\n",
    "    positive_surprises[\"*\"],\n",
    "    price_df[\"tradeClose\"].alias(\"Close_Day1\")\n",
    ")\n",
    "pos_eps_with_close.show(10)\n",
    "# For each reportedDate, get Close prices for the next 3 trading days using a window on tradeDate\n",
    "w = Window.orderBy(\"tradeDate\")\n",
    "\n",
    "# Add row numbers to the stock prices dataframe to easily find Day3 (2 days after Day1)\n",
    "price_with_row = price_df.withColumn(\"row_num\", F.row_number().over(w))\n",
    "\n",
    "# Join again to get row_num for Day1\n",
    "pos_eps_with_rownum = pos_eps_with_close.join(\n",
    "    price_with_row.withColumnRenamed(\"tradeDate\", \"tradeDate_Day1\").withColumnRenamed(\"row_num\", \"row_num_Day1\"),\n",
    "    pos_eps_with_close.reportedDate == F.col(\"tradeDate_Day1\"),\n",
    "    how=\"inner\"\n",
    ")\n",
    "pos_eps_with_rownum.show(10)\n",
    "# Get Close for Day3 by joining price_with_row on row_num = row_num_Day1 + 2\n",
    "day3_close = price_with_row.withColumnRenamed(\"tradeDate\", \"tradeDate_Day3\").withColumnRenamed(\"tradeClose\", \"Close_Day3\")\n",
    "\n",
    "pos_eps_with_day3 = pos_eps_with_rownum.join(\n",
    "    day3_close,\n",
    "    day3_close.row_num == pos_eps_with_rownum.row_num_Day1 + 2,\n",
    "    how=\"inner\"\n",
    ")\n",
    "pos_eps_with_day3.show(10)\n",
    "# Calculate 2-day return following positive surprise announcement\n",
    "pos_eps_with_return = pos_eps_with_day3.withColumn(\n",
    "    \"two_day_return\",\n",
    "    (F.col(\"Close_Day3\") / F.col(\"Close_Day1\")) - 1\n",
    ").select(\n",
    "    \"reportedDate\", \"reportedEPS\", \"estimatedEPS\", \"surprise\", \"two_day_return\"\n",
    ")\n",
    "pos_eps_with_return.show(10)"
   ]
  },
  {
   "cell_type": "markdown",
   "id": "41a33937",
   "metadata": {},
   "source": [
    "## 6.Compare median 2-day returns for positive surprises vs all historical dates"
   ]
  },
  {
   "cell_type": "code",
   "execution_count": 52,
   "id": "13f35a6a",
   "metadata": {},
   "outputs": [],
   "source": [
    "# Create window of 3 consecutive days ordered by date\n",
    "w3 = Window.orderBy(\"Date\").rowsBetween(0, 2)\n",
    "\n",
    "# Collect Close prices over the 3-day window\n",
    "all_with_window = amzn.withColumn(\"close_window\", F.collect_list(\"Close\").over(w3))\n",
    "\n",
    "# Filter full windows of length 3\n",
    "all_full = all_with_window.filter(F.size(\"close_window\") == 3)\n",
    "\n",
    "# Calculate 2-day return\n",
    "all_returns = all_full.withColumn(\n",
    "    \"two_day_return\",\n",
    "    (F.col(\"close_window\")[2] / F.col(\"close_window\")[0]) - 1\n",
    ").select(\"Date\", \"two_day_return\")"
   ]
  },
  {
   "cell_type": "code",
   "execution_count": 76,
   "id": "2f951fbf",
   "metadata": {},
   "outputs": [
    {
     "name": "stdout",
     "output_type": "stream",
     "text": [
      "Median 2-day return following positive surprise: 0.0190\n",
      "Median 2-day return for all historical dates: 0.0015\n"
     ]
    }
   ],
   "source": [
    "median_pos_surprise = pos_eps_with_return.approxQuantile(\"two_day_return\", [0.5], 0.01)[0]\n",
    "median_all = all_returns.approxQuantile(\"two_day_return\", [0.5], 0.01)[0]\n",
    "\n",
    "print(f\"Median 2-day return following positive surprise: {median_pos_surprise:.4f}\")\n",
    "print(f\"Median 2-day return for all historical dates: {median_all:.4f}\")"
   ]
  }
 ],
 "metadata": {
  "kernelspec": {
   "display_name": "Python 3",
   "language": "python",
   "name": "python3"
  },
  "language_info": {
   "codemirror_mode": {
    "name": "ipython",
    "version": 3
   },
   "file_extension": ".py",
   "mimetype": "text/x-python",
   "name": "python",
   "nbconvert_exporter": "python",
   "pygments_lexer": "ipython3",
   "version": "3.12.1"
  }
 },
 "nbformat": 4,
 "nbformat_minor": 5
}
