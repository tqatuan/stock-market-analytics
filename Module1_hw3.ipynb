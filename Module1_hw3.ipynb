{
 "cells": [
  {
   "cell_type": "markdown",
   "id": "056944bd",
   "metadata": {},
   "source": [
    "# Question 3. [Index] S&P 500 Market Corrections Analysis"
   ]
  },
  {
   "cell_type": "markdown",
   "id": "183282bb",
   "metadata": {},
   "source": [
    "Calculate the median duration (in days) of significant market corrections in the S&P 500 index.\n",
    "\n",
    "For this task, define a correction as an event when a stock index goes down by more than 5% from the closest all-time high maximum.\n",
    "\n",
    "Steps:\n",
    "\n",
    "1. Download S&P 500 historical data (1950-present) using yfinance\n",
    "2. Identify all-time high points (where price exceeds all previous prices)\n",
    "3. For each pair of consecutive all-time highs, find the minimum price in between\n",
    "4. Calculate drawdown percentages: (high - low) / high × 100\n",
    "5. Filter for corrections with at least 5% drawdown\n",
    "6. Calculate the duration in days for each correction period\n",
    "7. Determine the 25th, 50th (median), and 75th percentiles for correction durations"
   ]
  },
  {
   "cell_type": "markdown",
   "id": "a2905ca3",
   "metadata": {},
   "source": [
    "Investors often wonder about the typical length of market corrections when deciding \"when to buy the dip\" (Reddit discussion)"
   ]
  },
  {
   "cell_type": "markdown",
   "id": "9119f5e1",
   "metadata": {},
   "source": [
    "https://www.reddit.com/r/investing/comments/1jrqnte/when_are_you_buying_the_dip/?rdt=64135"
   ]
  },
  {
   "cell_type": "markdown",
   "id": "77f90e6a",
   "metadata": {},
   "source": [
    "https://awealthofcommonsense.com/2022/01/how-often-should-you-expect-a-stock-market-correction/"
   ]
  },
  {
   "cell_type": "code",
   "execution_count": 106,
   "id": "8eb6c8ef",
   "metadata": {},
   "outputs": [],
   "source": [
    "import yfinance as yf\n",
    "import pandas_datareader as pdr\n",
    "import pandas as pd\n",
    "import time\n",
    "import datetime\n",
    "from datetime import date\n",
    "from pyspark.sql import SparkSession\n",
    "from pyspark.sql import functions as F\n",
    "from pyspark.sql.window import Window"
   ]
  },
  {
   "cell_type": "code",
   "execution_count": 103,
   "id": "d23ae8e5",
   "metadata": {},
   "outputs": [],
   "source": [
    "from pyspark.sql import SparkSession\n",
    "\n",
    "spark = SparkSession.builder \\\n",
    ".master(\"local[1]\") \\\n",
    ".appName(\"SparkByExamples.com\") \\\n",
    ".getOrCreate()"
   ]
  },
  {
   "cell_type": "code",
   "execution_count": 89,
   "id": "6723c019",
   "metadata": {},
   "outputs": [],
   "source": [
    "spark.sparkContext.setLogLevel(\"ERROR\")"
   ]
  },
  {
   "cell_type": "code",
   "execution_count": 115,
   "id": "b48a4119",
   "metadata": {},
   "outputs": [
    {
     "name": "stderr",
     "output_type": "stream",
     "text": [
      "[*********************100%***********************]  1 of 1 completed\n"
     ]
    }
   ],
   "source": [
    "# Step 1: Download historical S&P 500 data\n",
    "sp500 = yf.download(\"^GSPC\", start=\"1950-01-01\")[['Close']].reset_index()\n",
    "sp500.columns = ['Date', 'Close']\n",
    "df = spark.createDataFrame(sp500)\n"
   ]
  },
  {
   "cell_type": "code",
   "execution_count": 116,
   "id": "c04600bc",
   "metadata": {},
   "outputs": [
    {
     "name": "stdout",
     "output_type": "stream",
     "text": [
      "+-------------------+------------------+\n",
      "|               Date|             Close|\n",
      "+-------------------+------------------+\n",
      "|1950-01-03 00:00:00| 16.65999984741211|\n",
      "|1950-01-04 00:00:00|16.850000381469727|\n",
      "|1950-01-05 00:00:00| 16.93000030517578|\n",
      "|1950-01-06 00:00:00|16.979999542236328|\n",
      "|1950-01-09 00:00:00|17.079999923706055|\n",
      "|1950-01-10 00:00:00|17.030000686645508|\n",
      "|1950-01-11 00:00:00| 17.09000015258789|\n",
      "|1950-01-12 00:00:00|16.760000228881836|\n",
      "|1950-01-13 00:00:00|16.670000076293945|\n",
      "|1950-01-16 00:00:00|16.719999313354492|\n",
      "|1950-01-17 00:00:00|16.860000610351562|\n",
      "|1950-01-18 00:00:00|16.850000381469727|\n",
      "|1950-01-19 00:00:00|  16.8700008392334|\n",
      "|1950-01-20 00:00:00|16.899999618530273|\n",
      "|1950-01-23 00:00:00|16.920000076293945|\n",
      "|1950-01-24 00:00:00|16.860000610351562|\n",
      "|1950-01-25 00:00:00|16.739999771118164|\n",
      "|1950-01-26 00:00:00|16.729999542236328|\n",
      "|1950-01-27 00:00:00| 16.81999969482422|\n",
      "|1950-01-30 00:00:00|17.020000457763672|\n",
      "+-------------------+------------------+\n",
      "only showing top 20 rows\n",
      "\n"
     ]
    }
   ],
   "source": [
    "df.show()"
   ]
  },
  {
   "cell_type": "code",
   "execution_count": 117,
   "id": "2bcbbce4",
   "metadata": {},
   "outputs": [
    {
     "name": "stdout",
     "output_type": "stream",
     "text": [
      "+-------------------+------------------+------------------+\n",
      "|               Date|             Close|           PrevMax|\n",
      "+-------------------+------------------+------------------+\n",
      "|1973-01-11 00:00:00|120.23999786376953|119.87000274658203|\n",
      "+-------------------+------------------+------------------+\n",
      "\n",
      "+-------------------+------------------+------------------+-------------+\n",
      "|               Date|             Close|           PrevMax|IsAllTimeHigh|\n",
      "+-------------------+------------------+------------------+-------------+\n",
      "|1973-01-11 00:00:00|120.23999786376953|119.87000274658203|            1|\n",
      "+-------------------+------------------+------------------+-------------+\n",
      "\n"
     ]
    }
   ],
   "source": [
    "#  Identify all-time highs\n",
    "window_spec = Window.partitionBy().orderBy(\"Date\").rowsBetween(Window.unboundedPreceding, -1)\n",
    "# for the current row, the window includes all prior rows, but not the current row.\n",
    "# unboundedPreceding: start from the very first row.\n",
    "# -1: end at the row just before the current row.\n",
    "df = df.withColumn(\"PrevMax\", F.max(\"Close\").over(window_spec))\n",
    "df.filter(F.col(\"Date\") == '1973-01-11').show()\n",
    "# For each row (i.e., each day), we compute the maximum closing price seen before that day.\n",
    "# This becomes the PrevMax column.\n",
    "# If today's price exceeds PrevMax, it’s a new all-time high.\n",
    "df = df.withColumn(\"IsAllTimeHigh\", F.when(F.col(\"Close\") > F.col(\"PrevMax\"), 1).otherwise(0))\n",
    "df.filter(F.col(\"Date\") == '1973-01-11').show()\n",
    "df = df.withColumn(\"Date_key\", F.date_format(F.col(\"Date\"), \"yyyyMMdd\"))"
   ]
  },
  {
   "cell_type": "code",
   "execution_count": null,
   "id": "48aa8426",
   "metadata": {},
   "outputs": [
    {
     "name": "stdout",
     "output_type": "stream",
     "text": [
      "+-------------------+------------------+------------------+-------------+--------+\n",
      "|               Date|             Close|           PrevMax|IsAllTimeHigh|Date_key|\n",
      "+-------------------+------------------+------------------+-------------+--------+\n",
      "|1950-01-03 00:00:00| 16.65999984741211|              NULL|            0|19500103|\n",
      "|1950-01-04 00:00:00|16.850000381469727| 16.65999984741211|            1|19500104|\n",
      "|1950-01-05 00:00:00| 16.93000030517578|16.850000381469727|            1|19500105|\n",
      "|1950-01-06 00:00:00|16.979999542236328| 16.93000030517578|            1|19500106|\n",
      "|1950-01-09 00:00:00|17.079999923706055|16.979999542236328|            1|19500109|\n",
      "|1950-01-10 00:00:00|17.030000686645508|17.079999923706055|            0|19500110|\n",
      "|1950-01-11 00:00:00| 17.09000015258789|17.079999923706055|            1|19500111|\n",
      "|1950-01-12 00:00:00|16.760000228881836| 17.09000015258789|            0|19500112|\n",
      "|1950-01-13 00:00:00|16.670000076293945| 17.09000015258789|            0|19500113|\n",
      "|1950-01-16 00:00:00|16.719999313354492| 17.09000015258789|            0|19500116|\n",
      "|1950-01-17 00:00:00|16.860000610351562| 17.09000015258789|            0|19500117|\n",
      "|1950-01-18 00:00:00|16.850000381469727| 17.09000015258789|            0|19500118|\n",
      "|1950-01-19 00:00:00|  16.8700008392334| 17.09000015258789|            0|19500119|\n",
      "|1950-01-20 00:00:00|16.899999618530273| 17.09000015258789|            0|19500120|\n",
      "|1950-01-23 00:00:00|16.920000076293945| 17.09000015258789|            0|19500123|\n",
      "|1950-01-24 00:00:00|16.860000610351562| 17.09000015258789|            0|19500124|\n",
      "|1950-01-25 00:00:00|16.739999771118164| 17.09000015258789|            0|19500125|\n",
      "|1950-01-26 00:00:00|16.729999542236328| 17.09000015258789|            0|19500126|\n",
      "|1950-01-27 00:00:00| 16.81999969482422| 17.09000015258789|            0|19500127|\n",
      "|1950-01-30 00:00:00|17.020000457763672| 17.09000015258789|            0|19500130|\n",
      "+-------------------+------------------+------------------+-------------+--------+\n",
      "only showing top 20 rows\n",
      "\n"
     ]
    },
    {
     "name": "stderr",
     "output_type": "stream",
     "text": [
      "25/05/25 18:53:32 WARN WindowExec: No Partition Defined for Window operation! Moving all data to a single partition, this can cause serious performance degradation.\n",
      "25/05/25 18:53:32 WARN WindowExec: No Partition Defined for Window operation! Moving all data to a single partition, this can cause serious performance degradation.\n",
      "25/05/25 18:53:32 WARN WindowExec: No Partition Defined for Window operation! Moving all data to a single partition, this can cause serious performance degradation.\n",
      "25/05/25 18:53:32 WARN WindowExec: No Partition Defined for Window operation! Moving all data to a single partition, this can cause serious performance degradation.\n",
      "25/05/25 18:53:32 WARN WindowExec: No Partition Defined for Window operation! Moving all data to a single partition, this can cause serious performance degradation.\n"
     ]
    }
   ],
   "source": [
    "df.show()"
   ]
  },
  {
   "cell_type": "code",
   "execution_count": 122,
   "id": "976e6362",
   "metadata": {},
   "outputs": [],
   "source": [
    "# Filter only the rows with all-time highs\n",
    "ath_df = df.filter(F.col(\"IsAllTimeHigh\") == 1).select(\"Date\", \"Close\").withColumnRenamed(\"Close\", \"ATH_Close\") ## we filter only rows where a new all-time high occurs.\n",
    "\n",
    "# Step 4: Get pairs of consecutive ATHs\n",
    "ath_df = ath_df.withColumn(\"NextDate\", F.lead(\"Date\").over(Window.orderBy(\"Date\")))  \n",
    "ath_df = ath_df.withColumn(\"NextClose\", F.lead(\"ATH_Close\").over(Window.orderBy(\"Date\")))\n",
    "ath_df = ath_df.withColumn(\"DaysSinceLastATH\", F.datediff(F.col(\"NextDate\"), F.col(\"Date\")))\n",
    "ath_df = ath_df.withColumn(\"Date_key\", F.date_format(F.col(\"Date\"), \"yyyyMMdd\")).withColumn(\"NextDate_key\", F.date_format(F.col(\"NextDate\"), \"yyyyMMdd\"))\n",
    "ath_pairs = ath_df.dropna()"
   ]
  },
  {
   "cell_type": "code",
   "execution_count": 123,
   "id": "8a34507e",
   "metadata": {},
   "outputs": [
    {
     "name": "stdout",
     "output_type": "stream",
     "text": [
      "+-------------------+------------------+-------------------+------------------+----------------+--------+------------+\n",
      "|               Date|         ATH_Close|           NextDate|         NextClose|DaysSinceLastATH|Date_key|NextDate_key|\n",
      "+-------------------+------------------+-------------------+------------------+----------------+--------+------------+\n",
      "|1973-01-11 00:00:00|120.23999786376953|1980-07-17 00:00:00|121.44000244140625|            2744|19730111|    19800717|\n",
      "+-------------------+------------------+-------------------+------------------+----------------+--------+------------+\n",
      "\n"
     ]
    }
   ],
   "source": [
    "ath_pairs.filter(F.col(\"Date\") == '1973-01-11').show()"
   ]
  },
  {
   "cell_type": "code",
   "execution_count": null,
   "id": "36b358c4",
   "metadata": {},
   "outputs": [],
   "source": [
    "# Alias tables\n",
    "df_alias = df.alias(\"a\")\n",
    "ath_alias = ath_pairs.alias(\"b\")\n",
    "\n",
    "# Join using aliases\n",
    "joined = ath_alias.join(\n",
    "    df_alias, # - Join condition: keep rows where a.Date is strictly between b.Date and b.NextDate\n",
    "    (F.col(\"a.Date\") > F.col(\"b.Date\")) & (F.col(\"a.Date\") < F.col(\"b.NextDate\")),\n",
    "    \"left\"\n",
    ").groupBy(\n",
    "    F.col(\"b.Date\"),\n",
    "    F.col(\"b.ATH_Close\"),\n",
    "    F.col(\"b.NextDate\"),\n",
    "    F.col(\"b.NextClose\")\n",
    ").agg(\n",
    "    F.min(F.struct(\"a.Close\", \"a.Date\")).alias(\"min_struct\") # - Use F.struct to package (\"a.Close\", \"a.Date\") together\n",
    "# - F.min(struct) picks the row with the lowest Close, retaining both Close and Date\n",
    ").select(\n",
    "    F.col(\"Date\"),\n",
    "    F.col(\"ATH_Close\"),\n",
    "    F.col(\"NextDate\"),\n",
    "    F.col(\"NextClose\"),\n",
    "        F.col(\"min_struct.Date\").alias(\"LowDate\"),\n",
    "    F.col(\"min_struct.Close\").alias(\"MinClose\")\n",
    "\n",
    ")"
   ]
  },
  {
   "cell_type": "code",
   "execution_count": 131,
   "id": "206e641a",
   "metadata": {},
   "outputs": [
    {
     "name": "stdout",
     "output_type": "stream",
     "text": [
      "+-------------------+------------------+-------------------+------------------+-------------------+------------------+\n",
      "|               Date|         ATH_Close|           NextDate|         NextClose|            LowDate|          MinClose|\n",
      "+-------------------+------------------+-------------------+------------------+-------------------+------------------+\n",
      "|1973-01-11 00:00:00|120.23999786376953|1980-07-17 00:00:00|121.44000244140625|1974-10-03 00:00:00|62.279998779296875|\n",
      "+-------------------+------------------+-------------------+------------------+-------------------+------------------+\n",
      "\n"
     ]
    }
   ],
   "source": [
    "joined.filter(F.col(\"Date\") == '1973-01-11').show()"
   ]
  },
  {
   "cell_type": "code",
   "execution_count": 132,
   "id": "bc9404da",
   "metadata": {},
   "outputs": [
    {
     "name": "stdout",
     "output_type": "stream",
     "text": [
      "+-------------------+------------------+-------------------+------------------+-------------------+------------------+\n",
      "|               Date|         ATH_Close|           NextDate|         NextClose|            LowDate|          MinClose|\n",
      "+-------------------+------------------+-------------------+------------------+-------------------+------------------+\n",
      "|1973-01-11 00:00:00|120.23999786376953|1980-07-17 00:00:00|121.44000244140625|1974-10-03 00:00:00|62.279998779296875|\n",
      "+-------------------+------------------+-------------------+------------------+-------------------+------------------+\n",
      "\n"
     ]
    }
   ],
   "source": [
    "joined.filter(F.col(\"Date\") == '1973-01-11').show()"
   ]
  },
  {
   "cell_type": "code",
   "execution_count": 133,
   "id": "6755f7a8",
   "metadata": {},
   "outputs": [
    {
     "name": "stdout",
     "output_type": "stream",
     "text": [
      "Correction duration percentiles (in days):\n",
      "25th: 20.0\n",
      "50th (Median): 35.0\n",
      "75th: 87.0\n"
     ]
    }
   ],
   "source": [
    "\n",
    "# Step 6: Compute drawdown and duration\n",
    "joined = joined.withColumn(\"Drawdown\", ((F.col(\"ATH_Close\") - F.col(\"MinClose\")) / F.col(\"ATH_Close\")) * 100)\n",
    "\n",
    "joined = joined.withColumn(\"Duration\", F.datediff(\"LowDate\", \"Date\"))\n",
    "\n",
    "# Step 7: Filter for corrections > 5%\n",
    "corrections = joined.filter(F.col(\"Drawdown\") >= 5)\n",
    "\n",
    "# Step 8: Compute percentiles\n",
    "percentiles = corrections.approxQuantile(\"Duration\", [0.25, 0.5, 0.75], 0.01)\n",
    "print(f\"Correction duration percentiles (in days):\\n25th: {percentiles[0]}\\n50th (Median): {percentiles[1]}\\n75th: {percentiles[2]}\")"
   ]
  },
  {
   "cell_type": "code",
   "execution_count": 134,
   "id": "ef3dcf75",
   "metadata": {},
   "outputs": [
    {
     "name": "stdout",
     "output_type": "stream",
     "text": [
      "+-------------------+------------------+-------------------+------------------+-------------------+------------------+------------------+--------+\n",
      "|               Date|         ATH_Close|           NextDate|         NextClose|            LowDate|          MinClose|          Drawdown|Duration|\n",
      "+-------------------+------------------+-------------------+------------------+-------------------+------------------+------------------+--------+\n",
      "|1950-06-12 00:00:00|19.399999618530273|1950-09-22 00:00:00|19.440000534057617|1950-07-17 00:00:00| 16.68000030517578|14.020615292983996|      35|\n",
      "|1950-11-24 00:00:00| 20.31999969482422|1950-12-28 00:00:00|  20.3799991607666|1950-12-04 00:00:00|              19.0|6.4960615878377235|      10|\n",
      "|1951-05-03 00:00:00|22.809999465942383|1951-08-02 00:00:00| 22.81999969482422|1951-06-29 00:00:00|20.959999084472656|  8.11047972285998|      57|\n",
      "|1951-10-15 00:00:00|23.850000381469727|1952-01-03 00:00:00|  23.8799991607666|1951-11-23 00:00:00|22.399999618530273|6.0796676718966935|      39|\n",
      "|1952-01-22 00:00:00| 24.65999984741211|1952-06-26 00:00:00|             24.75|1952-02-20 00:00:00| 23.09000015258789| 6.366584365526585|      29|\n",
      "|1952-08-08 00:00:00|25.549999237060547|1952-11-28 00:00:00| 25.65999984741211|1952-10-22 00:00:00|23.799999237060547|6.8493152730181155|      75|\n",
      "|1953-01-05 00:00:00| 26.65999984741211|1954-03-11 00:00:00|26.690000534057617|1953-09-14 00:00:00|22.709999084472656|14.816206997551355|     252|\n",
      "|1955-01-03 00:00:00|             36.75|1955-02-04 00:00:00|36.959999084472656|1955-01-17 00:00:00| 34.58000183105469|  5.90475692230017|      14|\n",
      "|1955-03-04 00:00:00| 37.52000045776367|1955-04-12 00:00:00| 37.65999984741211|1955-03-14 00:00:00|34.959999084472656| 6.823031295462839|      10|\n",
      "|1955-09-23 00:00:00|45.630001068115234|1955-11-14 00:00:00| 46.40999984741211|1955-10-11 00:00:00| 40.79999923706055|10.585145119423931|      18|\n",
      "|1955-11-14 00:00:00| 46.40999984741211|1956-03-09 00:00:00| 46.70000076293945|1956-01-23 00:00:00| 43.11000061035156| 7.110534901767641|      70|\n",
      "|1956-03-20 00:00:00|48.869998931884766|1956-07-16 00:00:00| 49.13999938964844|1956-05-28 00:00:00|44.099998474121094| 9.760590468627022|      69|\n",
      "|1956-08-02 00:00:00| 49.63999938964844|1958-09-24 00:00:00|49.779998779296875|1957-10-22 00:00:00| 38.97999954223633|21.474617200811384|     446|\n",
      "|1959-08-03 00:00:00|60.709999084472656|1961-01-27 00:00:00|  61.2400016784668|1960-10-25 00:00:00| 52.20000076293945| 14.01745750266325|     449|\n",
      "|1961-04-17 00:00:00| 68.68000030517578|1961-11-01 00:00:00|  68.7300033569336|1961-04-24 00:00:00|  64.4000015258789| 6.231797845484766|       7|\n",
      "|1961-12-12 00:00:00| 72.63999938964844|1963-09-03 00:00:00| 72.66000366210938|1962-06-26 00:00:00| 52.31999969482422|27.973568096863062|     196|\n",
      "|1963-10-28 00:00:00|  74.4800033569336|1963-12-17 00:00:00| 74.73999786376953|1963-11-22 00:00:00| 69.61000061035156| 6.538671491787287|      25|\n",
      "|1965-05-13 00:00:00|  90.2699966430664|1965-09-27 00:00:00|  90.6500015258789|1965-06-28 00:00:00|  81.5999984741211|  9.60451810276128|      46|\n",
      "|1966-02-09 00:00:00| 94.05999755859375|1967-05-04 00:00:00| 94.31999969482422|1966-10-07 00:00:00| 73.19999694824219| 22.17733484136764|     240|\n",
      "|1967-05-08 00:00:00| 94.58000183105469|1967-07-31 00:00:00|             94.75|1967-06-05 00:00:00| 88.43000030517578|  6.50243329119877|      28|\n",
      "+-------------------+------------------+-------------------+------------------+-------------------+------------------+------------------+--------+\n",
      "only showing top 20 rows\n",
      "\n"
     ]
    }
   ],
   "source": [
    "corrections.show()"
   ]
  },
  {
   "cell_type": "code",
   "execution_count": 135,
   "id": "ce107c9b",
   "metadata": {},
   "outputs": [
    {
     "name": "stdout",
     "output_type": "stream",
     "text": [
      "+-------------------+------------------+-------------------+------------------+-------------------+------------------+------------------+--------+\n",
      "|               Date|         ATH_Close|           NextDate|         NextClose|            LowDate|          MinClose|          Drawdown|Duration|\n",
      "+-------------------+------------------+-------------------+------------------+-------------------+------------------+------------------+--------+\n",
      "|2000-03-24 00:00:00|   1527.4599609375|2007-05-30 00:00:00|  1530.22998046875|2002-10-09 00:00:00|  776.760009765625| 49.14694789846553|     929|\n",
      "|1973-01-11 00:00:00|120.23999786376953|1980-07-17 00:00:00|121.44000244140625|1974-10-03 00:00:00|62.279998779296875| 48.20359290935836|     630|\n",
      "|1980-11-28 00:00:00|140.52000427246094|1982-11-03 00:00:00| 142.8699951171875|1982-08-12 00:00:00|102.41999816894531| 27.11358165748537|     622|\n",
      "|1968-11-29 00:00:00|108.37000274658203|1972-03-06 00:00:00| 108.7699966430664|1970-05-26 00:00:00| 69.29000091552734|36.061641451132346|     543|\n",
      "|2007-10-09 00:00:00|1565.1500244140625|2013-03-28 00:00:00|  1569.18994140625|2009-03-09 00:00:00|  676.530029296875| 56.77538774277282|     517|\n",
      "|1959-08-03 00:00:00|60.709999084472656|1961-01-27 00:00:00|  61.2400016784668|1960-10-25 00:00:00| 52.20000076293945| 14.01745750266325|     449|\n",
      "|1956-08-02 00:00:00| 49.63999938964844|1958-09-24 00:00:00|49.779998779296875|1957-10-22 00:00:00| 38.97999954223633|21.474617200811384|     446|\n",
      "|1983-10-10 00:00:00|172.64999389648438|1985-01-21 00:00:00|175.22999572753906|1984-07-24 00:00:00|147.82000732421875|14.381689805997283|     288|\n",
      "|2022-01-03 00:00:00|  4796.56005859375|2024-01-19 00:00:00|  4839.81005859375|2022-10-12 00:00:00| 3577.030029296875|  25.4250966192304|     282|\n",
      "|2015-05-21 00:00:00| 2130.820068359375|2016-07-11 00:00:00| 2137.159912109375|2016-02-11 00:00:00|1829.0799560546875| 14.16075044464042|     266|\n",
      "+-------------------+------------------+-------------------+------------------+-------------------+------------------+------------------+--------+\n",
      "\n"
     ]
    }
   ],
   "source": [
    "corrections.sort(\"Duration\", ascending=False).limit(10).show()"
   ]
  },
  {
   "cell_type": "markdown",
   "id": "a10ec0fc",
   "metadata": {},
   "source": [
    "Correction duration percentiles (in days):\n",
    "1. 25th: 20.0\n",
    "2. 50th (Median): 35.0\n",
    "3. 75th: 87.0"
   ]
  },
  {
   "cell_type": "markdown",
   "id": "62a48dc2",
   "metadata": {},
   "source": []
  }
 ],
 "metadata": {
  "kernelspec": {
   "display_name": "Python 3",
   "language": "python",
   "name": "python3"
  },
  "language_info": {
   "codemirror_mode": {
    "name": "ipython",
    "version": 3
   },
   "file_extension": ".py",
   "mimetype": "text/x-python",
   "name": "python",
   "nbconvert_exporter": "python",
   "pygments_lexer": "ipython3",
   "version": "3.12.1"
  }
 },
 "nbformat": 4,
 "nbformat_minor": 5
}
